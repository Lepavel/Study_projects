{
 "cells": [
  {
   "cell_type": "code",
   "execution_count": 17,
   "metadata": {},
   "outputs": [],
   "source": [
    "from sklearn.model_selection import train_test_split\n",
    "from sklearn.preprocessing import MinMaxScaler\n",
    "import pandas as pd\n",
    "import numpy as np\n",
    "import random\n",
    "\n",
    "eta = 0.1    # learning rate\n",
    "epoch = 500 # iteration"
   ]
  },
  {
   "cell_type": "code",
   "execution_count": 2,
   "metadata": {},
   "outputs": [],
   "source": [
    "# Linear Regression Model\n",
    "class LinearRegression:\n",
    "    \n",
    "    def __init__(self, x, w, y):\n",
    "        self.inputs  = x\n",
    "        self.weights = w               \n",
    "        self.target  = y\n",
    "        self.output  = np.zeros(self.target.shape)\n",
    "\n",
    "    def forward_proc(self):\n",
    "        # forward processing of inputs and weights\n",
    "        self.output = np.dot(self.weights, self.inputs.T)\n",
    "\n",
    "    def backprop(self):\n",
    "        # backward processing of appling the chain rule to find derivative of the mean square error function with respect to weights\n",
    "        dw = (self.output - self.target) * self.inputs\n",
    "\n",
    "        # update the weights with the derivative of the loss function\n",
    "        self.weights -= eta * dw\n",
    "\n",
    "    def predict(self, x):\n",
    "        # predict the output for a given input x\n",
    "        return (np.dot(self.weights, x.T))\n",
    "        \n",
    "    def calculate_error(self):\n",
    "        # calculate error\n",
    "        error = self.target - self.output\n",
    "        return abs(error)"
   ]
  },
  {
   "cell_type": "code",
   "execution_count": 18,
   "metadata": {},
   "outputs": [
    {
     "name": "stdout",
     "output_type": "stream",
     "text": [
      "Initial Weights: [[0.51662038 0.58817352 0.67103792]]\n",
      "Loss:  [0.00227212]\n",
      "Loss:  [0.01609235]\n",
      "Loss:  [0.01622133]\n",
      "Loss:  [0.00121064]\n",
      "Loss:  [0.00617396]\n",
      "Output: [0.05415789]\n",
      "Adjusted Weights: [[-0.01993949 -0.07578625  0.24253639]]\n",
      "Predicted price for 3 beds, 1980, grade 8 is: 66400\n"
     ]
    }
   ],
   "source": [
    "if __name__ == \"__main__\":\n",
    "# load dataset\n",
    "    df = pd.read_csv(\"kc_house_data.csv\")\n",
    "    # use 300 samples for fast experimentation, for final run, you may\n",
    "    # run the entire dataset\n",
    "    #df = df.iloc[:300, :]\n",
    "    \n",
    "    weights = np.random.rand(1, 3)\n",
    "    print(\"Initial Weights:\", weights)\n",
    "    \n",
    "    # select features and labels for prediction\n",
    "    features = df[[\"bedrooms\", \"yr_built\", 'grade']].values\n",
    "    labels = df[[\"price\"]].values\n",
    "    # normalize data\n",
    "    scaler = MinMaxScaler()\n",
    "    features = scaler.fit_transform(features)\n",
    "    labels = scaler.fit_transform(labels)\n",
    "    \n",
    "    \n",
    "    # SGD Optimization\n",
    "    for i in range(epoch):\n",
    "   \n",
    "        if i == 0: w = weights\n",
    "        \n",
    "        np.random.shuffle(concat_data) # shuffle the dataset\n",
    "        X = concat_data[:, 0:3]\n",
    "        y = concat_data[:, 3:4]\n",
    "        \n",
    "        for j in range(len(X)):\n",
    "         \n",
    "            model = LinearRegression(X[j], w, y[j])\n",
    "            model.forward_proc()   # forward processing\n",
    "            model.backprop()       # backward processing\n",
    "            w = model.weights \n",
    "\n",
    "        if (i % 100) == 0:\n",
    "             print(\"Loss: \", model.calculate_error())\n",
    "        \n",
    "    print(\"Output:\", model.output)\n",
    "    print(\"Adjusted Weights:\", model.weights)\n",
    "\n",
    "    # Prediction\n",
    "    #new_data = np.array([[.3, .1980, .8]])\n",
    "    #print(\"Price for 3 beds and 1980 year and 8 grade is predictd as:\", model.predict(new_data))\n",
    "    new_features = np.array([[3, 1980, 8]])\n",
    "    new_features = scaler.transform(new_features)\n",
    "    predicted_value = model.predict(new_features)\n",
    "    print(\"Predicted price for 3 beds, 1980, grade 8 is:\", int(scaler.inverse_transform(predicted_value)))"
   ]
  }
 ],
 "metadata": {
  "kernelspec": {
   "display_name": "Python 3",
   "language": "python",
   "name": "python3"
  },
  "language_info": {
   "codemirror_mode": {
    "name": "ipython",
    "version": 3
   },
   "file_extension": ".py",
   "mimetype": "text/x-python",
   "name": "python",
   "nbconvert_exporter": "python",
   "pygments_lexer": "ipython3",
   "version": "3.8.3"
  }
 },
 "nbformat": 4,
 "nbformat_minor": 4
}
