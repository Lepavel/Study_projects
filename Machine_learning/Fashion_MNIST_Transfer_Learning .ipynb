{
 "cells": [
  {
   "cell_type": "markdown",
   "metadata": {
    "id": "UTS4evN_5tfM"
   },
   "source": [
    "## MNIST Classification using Transfer Learning with VGG16 model.\n",
    "This program classifes mnist dataset using transfer learnig with VGG16.\n",
    "It extracts features for the new data with frozen layers, and add new classification layers at the end. It improves the performance by reducing learning rate and employing early stopping in callback methods. No fine tuning is provided. JT Park, April 2021."
   ]
  },
  {
   "cell_type": "markdown",
   "metadata": {
    "id": "5QlQIXkTz9OW"
   },
   "source": [
    "###Import TensorFlow"
   ]
  },
  {
   "cell_type": "code",
   "execution_count": 1,
   "metadata": {
    "id": "wUlO--P6ISZw"
   },
   "outputs": [],
   "source": [
    "# import tensorflow and tf.keras\n",
    "import tensorflow as tf\n",
    "from tensorflow import keras\n",
    "from tensorflow.keras import datasets, layers, models\n",
    "import matplotlib.pyplot as plt\n",
    "import numpy as np"
   ]
  },
  {
   "cell_type": "markdown",
   "metadata": {
    "id": "DTfcn9kX0Lb4"
   },
   "source": [
    "### Download and prepare the mnist dataset\n",
    "\n",
    "MNIST is a dataset of hand-written digit images consisting of a training set of 60,000 examples and a test set of 10,000 examples. Each example is a 28x28 grayscale image, associated with a label from 10 classes."
   ]
  },
  {
   "cell_type": "code",
   "execution_count": 3,
   "metadata": {
    "colab": {
     "base_uri": "https://localhost:8080/"
    },
    "id": "sGAHfA46IhXL",
    "outputId": "850a4f86-c715-4352-bf3f-008d64de00af"
   },
   "outputs": [
    {
     "name": "stdout",
     "output_type": "stream",
     "text": [
      "(60000, 28, 28) (10000, 28, 28)\n"
     ]
    },
    {
     "data": {
      "text/plain": [
       "((60000, 28, 28, 3), (10000, 28, 28, 3))"
      ]
     },
     "execution_count": 3,
     "metadata": {},
     "output_type": "execute_result"
    }
   ],
   "source": [
    "# load mnist dataset\n",
    "# mnist = keras.datasets.fashion_mnist\n",
    "(train_images, train_labels), (test_images, test_labels) = tf.keras.datasets.fashion_mnist.load_data()\n",
    "\n",
    "# check shapes of images and labels of train and test data\n",
    "print(train_images.shape, test_images.shape)  \n",
    "\n",
    "# Convert the images into 3 channels\n",
    "train_images=np.dstack([train_images] * 3)\n",
    "test_images=np.dstack([test_images]*3)\n",
    "\n",
    "# reshape the image as per the tensor format required by tensorflow\n",
    "train_images = train_images.reshape(-1, 28, 28, 3)\n",
    "test_images = test_images.reshape(-1, 28, 28, 3)\n",
    "train_images.shape, test_images.shape  "
   ]
  },
  {
   "cell_type": "markdown",
   "metadata": {
    "id": "zCwy9rZ36ptx"
   },
   "source": [
    "###Resize the image required by VGG16"
   ]
  },
  {
   "cell_type": "code",
   "execution_count": 4,
   "metadata": {
    "colab": {
     "base_uri": "https://localhost:8080/"
    },
    "id": "buUd1ok36jCk",
    "outputId": "85518142-c5f0-4fde-a363-35040869cf68"
   },
   "outputs": [
    {
     "data": {
      "text/plain": [
       "((60000, 48, 48, 3), (10000, 48, 48, 3))"
      ]
     },
     "execution_count": 4,
     "metadata": {},
     "output_type": "execute_result"
    }
   ],
   "source": [
    "# Resize the images 48*48 as required by VGG16\n",
    "from keras.preprocessing.image import img_to_array, array_to_img\n",
    "train_images = np.asarray([img_to_array(array_to_img(im, scale=False).resize((48,48))) for im in train_images])\n",
    "test_images = np.asarray([img_to_array(array_to_img(im, scale=False).resize((48,48))) for im in test_images])\n",
    "train_images.shape, test_images.shape"
   ]
  },
  {
   "cell_type": "markdown",
   "metadata": {
    "id": "kcA9p_ka77xb"
   },
   "source": [
    "###Normalize the data and change the type"
   ]
  },
  {
   "cell_type": "code",
   "execution_count": 5,
   "metadata": {
    "id": "lh6HBhRj741C"
   },
   "outputs": [],
   "source": [
    "from keras.utils import to_categorical\n",
    "\n",
    "# Normalize pixel values to be between 0 and 1\n",
    "train_images, test_images = train_images / 255.0, test_images / 255.0\n",
    "train_images, test_images = train_images.astype('float32'), test_images.astype('float32')\n",
    "\n",
    "# Converting Labels to one hot encoded format\n",
    "train_labels_one_hot = to_categorical(train_labels)\n",
    "test_labels_one_hot = to_categorical(test_labels)"
   ]
  },
  {
   "cell_type": "markdown",
   "metadata": {
    "id": "A-bWrOLv8Li4"
   },
   "source": [
    "###Split train data as train and validation data"
   ]
  },
  {
   "cell_type": "code",
   "execution_count": 6,
   "metadata": {
    "colab": {
     "base_uri": "https://localhost:8080/"
    },
    "id": "bbnr2YPr_XV4",
    "outputId": "38922c40-ea58-4bf6-846d-c81826ed5db1"
   },
   "outputs": [
    {
     "data": {
      "text/plain": [
       "((48000, 48, 48, 3), (12000, 48, 48, 3), (48000, 10), (12000, 10))"
      ]
     },
     "execution_count": 6,
     "metadata": {},
     "output_type": "execute_result"
    }
   ],
   "source": [
    "from sklearn.model_selection import train_test_split\n",
    "\n",
    "# Splitting train data as train and validation data\n",
    "train_images,valid_images,train_labels,valid_labels = train_test_split(train_images,\n",
    "                                                           train_labels_one_hot,\n",
    "                                                           test_size=0.2,\n",
    "                                                           random_state=13\n",
    "                                                           )\n",
    "train_images.shape, valid_images.shape, train_labels.shape,valid_labels.shape"
   ]
  },
  {
   "cell_type": "markdown",
   "metadata": {
    "id": "8nkyUvqECJDb"
   },
   "source": [
    "###Define the parameters for instanitaing VGG16 model"
   ]
  },
  {
   "cell_type": "code",
   "execution_count": 7,
   "metadata": {
    "id": "r_CHhjQcCC3H"
   },
   "outputs": [],
   "source": [
    "# Define the parameters for instanitaing VGG16 model. \n",
    "IMG_WIDTH = 48\n",
    "IMG_HEIGHT = 48\n",
    "IMG_DEPTH = 3\n",
    "BATCH_SIZE = 16"
   ]
  },
  {
   "cell_type": "markdown",
   "metadata": {
    "id": "Ge5nI4ncCT1x"
   },
   "source": [
    "###Preprocessing the input "
   ]
  },
  {
   "cell_type": "code",
   "execution_count": 8,
   "metadata": {
    "id": "MWdJLqfICSNI"
   },
   "outputs": [],
   "source": [
    "from keras.applications.vgg16 import preprocess_input\n",
    "\n",
    "# Preprocessing the input \n",
    "train_images = preprocess_input(train_images)\n",
    "valid_images = preprocess_input(valid_images)\n",
    "test_images  = preprocess_input (test_images)"
   ]
  },
  {
   "cell_type": "markdown",
   "metadata": {
    "id": "Wq32ds5vCsPE"
   },
   "source": [
    "###Create base model of VGG16"
   ]
  },
  {
   "cell_type": "code",
   "execution_count": 9,
   "metadata": {
    "colab": {
     "base_uri": "https://localhost:8080/"
    },
    "id": "CobHWJE7CqyU",
    "outputId": "591fa5f3-014c-4f31-990a-ba346aff1996"
   },
   "outputs": [
    {
     "name": "stdout",
     "output_type": "stream",
     "text": [
      "{'Connection': 'keep-alive', 'Content-Length': '58889256', 'x-amz-id-2': '5U3cukTDPbvY3awQMC5yE3u9InpeHt9aiFGZL9t6FMIHxqvmmdjgDliq3pZxLgURxr7yarJifyo=', 'x-amz-request-id': '3XG2X8AZKTMW4NH9', 'Last-Modified': 'Tue, 23 May 2017 05:36:09 GMT', 'ETag': '\"6d6bbae143d832006294945121d1f1fc\"', 'Content-Disposition': 'attachment; filename=vgg16_weights_tf_dim_ordering_tf_kernels_notop.h5', 'Content-Type': 'application/octet-stream', 'Server': 'AmazonS3', 'Via': '1.1 varnish, 1.1 varnish', 'Accept-Ranges': 'bytes', 'Age': '0', 'Date': 'Fri, 23 Apr 2021 17:51:25 GMT', 'X-Served-By': 'cache-dca17781-DCA, cache-hhn4059-HHN', 'X-Cache': 'MISS, MISS', 'X-Cache-Hits': '0, 0', 'Strict-Transport-Security': 'max-age=31536000', 'X-Fastly-Request-ID': 'd3509425df9af0f7b41c99be319aff7488fd2739'}\n",
      "Model: \"vgg16\"\n",
      "_________________________________________________________________\n",
      "Layer (type)                 Output Shape              Param #   \n",
      "=================================================================\n",
      "input_1 (InputLayer)         [(None, 48, 48, 3)]       0         \n",
      "_________________________________________________________________\n",
      "block1_conv1 (Conv2D)        (None, 48, 48, 64)        1792      \n",
      "_________________________________________________________________\n",
      "block1_conv2 (Conv2D)        (None, 48, 48, 64)        36928     \n",
      "_________________________________________________________________\n",
      "block1_pool (MaxPooling2D)   (None, 24, 24, 64)        0         \n",
      "_________________________________________________________________\n",
      "block2_conv1 (Conv2D)        (None, 24, 24, 128)       73856     \n",
      "_________________________________________________________________\n",
      "block2_conv2 (Conv2D)        (None, 24, 24, 128)       147584    \n",
      "_________________________________________________________________\n",
      "block2_pool (MaxPooling2D)   (None, 12, 12, 128)       0         \n",
      "_________________________________________________________________\n",
      "block3_conv1 (Conv2D)        (None, 12, 12, 256)       295168    \n",
      "_________________________________________________________________\n",
      "block3_conv2 (Conv2D)        (None, 12, 12, 256)       590080    \n",
      "_________________________________________________________________\n",
      "block3_conv3 (Conv2D)        (None, 12, 12, 256)       590080    \n",
      "_________________________________________________________________\n",
      "block3_pool (MaxPooling2D)   (None, 6, 6, 256)         0         \n",
      "_________________________________________________________________\n",
      "block4_conv1 (Conv2D)        (None, 6, 6, 512)         1180160   \n",
      "_________________________________________________________________\n",
      "block4_conv2 (Conv2D)        (None, 6, 6, 512)         2359808   \n",
      "_________________________________________________________________\n",
      "block4_conv3 (Conv2D)        (None, 6, 6, 512)         2359808   \n",
      "_________________________________________________________________\n",
      "block4_pool (MaxPooling2D)   (None, 3, 3, 512)         0         \n",
      "_________________________________________________________________\n",
      "block5_conv1 (Conv2D)        (None, 3, 3, 512)         2359808   \n",
      "_________________________________________________________________\n",
      "block5_conv2 (Conv2D)        (None, 3, 3, 512)         2359808   \n",
      "_________________________________________________________________\n",
      "block5_conv3 (Conv2D)        (None, 3, 3, 512)         2359808   \n",
      "_________________________________________________________________\n",
      "block5_pool (MaxPooling2D)   (None, 1, 1, 512)         0         \n",
      "=================================================================\n",
      "Total params: 14,714,688\n",
      "Trainable params: 14,714,688\n",
      "Non-trainable params: 0\n",
      "_________________________________________________________________\n"
     ]
    }
   ],
   "source": [
    "from keras.applications import VGG16;\n",
    "\n",
    "import requests \n",
    "link ='https://github.com/fchollet/deep-learning-models/releases/download/v0.1/vgg16_weights_tf_dim_ordering_tf_kernels_notop.h5'\n",
    "r = requests.get(link, allow_redirects=True, stream=True)\n",
    "print(r.headers)\n",
    "open('vgg16weights', 'wb').write(r.content)\n",
    "\n",
    "conv_base = VGG16(weights='vgg16weights', # conv_vase contains pre-trained weights of 13 layers, excluding the last top 3 layers\n",
    "                  include_top=False, \n",
    "                  input_shape=(IMG_HEIGHT, IMG_WIDTH, IMG_DEPTH)\n",
    "                 )\n",
    "conv_base.summary()"
   ]
  },
  {
   "cell_type": "markdown",
   "metadata": {
    "id": "wUQI9MyCOvZ9"
   },
   "source": [
    "#### Extract features"
   ]
  },
  {
   "cell_type": "code",
   "execution_count": 10,
   "metadata": {
    "colab": {
     "base_uri": "https://localhost:8080/"
    },
    "id": "D-JHK796OrK5",
    "outputId": "e037902d-61f8-4c0b-cea1-8284dd508b2f"
   },
   "outputs": [
    {
     "name": "stdout",
     "output_type": "stream",
     "text": [
      "3000/3000 [==============================] - 281s 92ms/step\n",
      "625/625 [==============================] - 60s 92ms/step\n",
      "750/750 [==============================] - 71s 91ms/step\n"
     ]
    }
   ],
   "source": [
    "# Extracting features\n",
    "train_features = conv_base.predict(np.array(train_images), batch_size=BATCH_SIZE, verbose=1)\n",
    "test_features = conv_base.predict(np.array(test_images), batch_size=BATCH_SIZE, verbose=1)\n",
    "val_features = conv_base.predict(np.array(valid_images), batch_size=BATCH_SIZE, verbose=1)"
   ]
  },
  {
   "cell_type": "markdown",
   "metadata": {
    "id": "Ho6uYh_bPVlC"
   },
   "source": [
    "###Save the features as the final classification inputs"
   ]
  },
  {
   "cell_type": "code",
   "execution_count": 11,
   "metadata": {
    "colab": {
     "base_uri": "https://localhost:8080/"
    },
    "id": "J2-vAaehPPMG",
    "outputId": "0488f1ca-5494-4154-aef9-b7a2b89e6117"
   },
   "outputs": [
    {
     "data": {
      "text/plain": [
       "((48000, 1, 1, 512), (10000, 1, 1, 512), (12000, 1, 1, 512))"
      ]
     },
     "execution_count": 11,
     "metadata": {},
     "output_type": "execute_result"
    }
   ],
   "source": [
    "# Save the features so that they can be used for future\n",
    "np.savez(\"train_features\", train_features, train_labels)\n",
    "np.savez(\"test_features\", test_features, test_labels)\n",
    "np.savez(\"val_features\", val_features, valid_labels)\n",
    "train_features.shape, test_features.shape, val_features.shape"
   ]
  },
  {
   "cell_type": "markdown",
   "metadata": {
    "id": "fAGTQ-QYQam7"
   },
   "source": [
    "###Flatten extracted features"
   ]
  },
  {
   "cell_type": "code",
   "execution_count": 12,
   "metadata": {
    "id": "DUGQbeYQQXlR"
   },
   "outputs": [],
   "source": [
    "# Flatten extracted features\n",
    "train_features_flat = np.reshape(train_features, (48000, 1*1*512))\n",
    "test_features_flat = np.reshape(test_features, (10000, 1*1*512))\n",
    "val_features_flat = np.reshape(val_features, (12000, 1*1*512))"
   ]
  },
  {
   "cell_type": "markdown",
   "metadata": {
    "id": "b7GBYTFkQjE1"
   },
   "source": [
    "###Build a new model for classification of new input data"
   ]
  },
  {
   "cell_type": "code",
   "execution_count": 13,
   "metadata": {
    "id": "Lcn7dt8OQh4e"
   },
   "outputs": [],
   "source": [
    "from keras import models\n",
    "from keras.models import Model\n",
    "from keras import layers\n",
    "from keras import optimizers\n",
    "from keras import callbacks\n",
    "from keras.layers.advanced_activations import LeakyReLU\n",
    "num_classes = 10 # number of classes for MNIST\n",
    "\n",
    "# Define the densely connected classifier followed by final dense layer for the number of classes\n",
    "NB_TRAIN_SAMPLES = train_features_flat.shape[0]\n",
    "NB_VALIDATION_SAMPLES = val_features_flat.shape[0]\n",
    "NB_EPOCHS = 100\n",
    "\n",
    "model = models.Sequential()\n",
    "model.add(layers.Dense(512, activation='relu', input_dim=(1*1*512)))\n",
    "model.add(layers.Dense(num_classes, activation='softmax'))"
   ]
  },
  {
   "cell_type": "markdown",
   "metadata": {
    "id": "BZEEK0q_RLr8"
   },
   "source": [
    "###Compile the model"
   ]
  },
  {
   "cell_type": "code",
   "execution_count": 14,
   "metadata": {
    "id": "4zZo8wOHRKgY"
   },
   "outputs": [],
   "source": [
    "# Compile the model.\n",
    "model.compile(\n",
    "    loss='categorical_crossentropy',\n",
    "    optimizer=optimizers.Adam(),\n",
    "  # optimizer=optimizers.RMSprop(lr=2e-5),\n",
    "    metrics=['acc'])"
   ]
  },
  {
   "cell_type": "markdown",
   "metadata": {
    "id": "0O1lMkGdRWer"
   },
   "source": [
    "###Incorporating reduced learning and early stopping for callback"
   ]
  },
  {
   "cell_type": "code",
   "execution_count": 15,
   "metadata": {
    "colab": {
     "base_uri": "https://localhost:8080/"
    },
    "id": "-8WWWqvzRVUd",
    "outputId": "1fcb15e9-aaff-40ca-b8f4-32c24a1d8918"
   },
   "outputs": [
    {
     "name": "stdout",
     "output_type": "stream",
     "text": [
      "WARNING:tensorflow:`epsilon` argument is deprecated and will be removed, use `min_delta` instead.\n"
     ]
    }
   ],
   "source": [
    "# Incorporating reduced learning and early stopping for callback\n",
    "reduce_learning = callbacks.ReduceLROnPlateau(\n",
    "    monitor='val_loss',\n",
    "    factor=0.2,\n",
    "    patience=2,\n",
    "    verbose=1,\n",
    "    mode='auto',\n",
    "    epsilon=0.0001,\n",
    "    cooldown=2,\n",
    "    min_lr=0)\n",
    "\n",
    "eary_stopping = callbacks.EarlyStopping(\n",
    "    monitor='val_loss',\n",
    "    min_delta=0,\n",
    "    patience=7,\n",
    "    verbose=1,\n",
    "    mode='auto')\n",
    "\n",
    "callbacks = [reduce_learning, eary_stopping]"
   ]
  },
  {
   "cell_type": "markdown",
   "metadata": {
    "id": "9pONI-3nRm1u"
   },
   "source": [
    "###Train the model"
   ]
  },
  {
   "cell_type": "code",
   "execution_count": 16,
   "metadata": {
    "colab": {
     "base_uri": "https://localhost:8080/"
    },
    "id": "WNqNaJmSRlso",
    "outputId": "11db6f99-edac-4ffc-f682-2a5b7afc222f"
   },
   "outputs": [
    {
     "name": "stdout",
     "output_type": "stream",
     "text": [
      "Epoch 1/100\n",
      "1500/1500 [==============================] - 10s 4ms/step - loss: 1.8621 - acc: 0.3558 - val_loss: 1.0826 - val_acc: 0.6217\n",
      "Epoch 2/100\n",
      "1500/1500 [==============================] - 6s 4ms/step - loss: 1.1027 - acc: 0.5979 - val_loss: 1.0997 - val_acc: 0.5871\n",
      "Epoch 3/100\n",
      "1500/1500 [==============================] - 5s 4ms/step - loss: 0.9726 - acc: 0.6433 - val_loss: 0.9447 - val_acc: 0.6460\n",
      "Epoch 4/100\n",
      "1500/1500 [==============================] - 6s 4ms/step - loss: 0.9190 - acc: 0.6648 - val_loss: 0.8498 - val_acc: 0.6978\n",
      "Epoch 5/100\n",
      "1500/1500 [==============================] - 6s 4ms/step - loss: 0.8851 - acc: 0.6762 - val_loss: 0.9524 - val_acc: 0.6389\n",
      "Epoch 6/100\n",
      "1500/1500 [==============================] - 6s 4ms/step - loss: 0.8494 - acc: 0.6867 - val_loss: 0.8146 - val_acc: 0.6900\n",
      "Epoch 7/100\n",
      "1500/1500 [==============================] - 6s 4ms/step - loss: 0.8381 - acc: 0.6926 - val_loss: 0.7969 - val_acc: 0.7074\n",
      "Epoch 8/100\n",
      "1500/1500 [==============================] - 5s 4ms/step - loss: 0.8260 - acc: 0.6971 - val_loss: 0.7925 - val_acc: 0.7127\n",
      "Epoch 9/100\n",
      "1500/1500 [==============================] - 6s 4ms/step - loss: 0.8056 - acc: 0.7088 - val_loss: 0.7944 - val_acc: 0.7126\n",
      "Epoch 10/100\n",
      "1500/1500 [==============================] - 6s 4ms/step - loss: 0.7958 - acc: 0.7103 - val_loss: 0.8170 - val_acc: 0.7019\n",
      "\n",
      "Epoch 00010: ReduceLROnPlateau reducing learning rate to 0.00020000000949949026.\n",
      "Epoch 11/100\n",
      "1500/1500 [==============================] - 6s 4ms/step - loss: 0.7392 - acc: 0.7346 - val_loss: 0.7346 - val_acc: 0.7336\n",
      "Epoch 12/100\n",
      "1500/1500 [==============================] - 6s 4ms/step - loss: 0.7274 - acc: 0.7400 - val_loss: 0.7399 - val_acc: 0.7287\n",
      "Epoch 13/100\n",
      "1500/1500 [==============================] - 6s 4ms/step - loss: 0.7250 - acc: 0.7397 - val_loss: 0.7304 - val_acc: 0.7423\n",
      "Epoch 14/100\n",
      "1500/1500 [==============================] - 6s 4ms/step - loss: 0.7258 - acc: 0.7415 - val_loss: 0.7157 - val_acc: 0.7432\n",
      "Epoch 15/100\n",
      "1500/1500 [==============================] - 6s 4ms/step - loss: 0.7116 - acc: 0.7443 - val_loss: 0.7115 - val_acc: 0.7467\n",
      "Epoch 16/100\n",
      "1500/1500 [==============================] - 6s 4ms/step - loss: 0.7072 - acc: 0.7504 - val_loss: 0.7110 - val_acc: 0.7465\n",
      "Epoch 17/100\n",
      "1500/1500 [==============================] - 6s 4ms/step - loss: 0.7093 - acc: 0.7468 - val_loss: 0.7068 - val_acc: 0.7490\n",
      "Epoch 18/100\n",
      "1500/1500 [==============================] - 6s 4ms/step - loss: 0.7140 - acc: 0.7455 - val_loss: 0.7184 - val_acc: 0.7389\n",
      "Epoch 19/100\n",
      "1500/1500 [==============================] - 6s 4ms/step - loss: 0.7060 - acc: 0.7490 - val_loss: 0.7119 - val_acc: 0.7512\n",
      "\n",
      "Epoch 00019: ReduceLROnPlateau reducing learning rate to 4.0000001899898055e-05.\n",
      "Epoch 20/100\n",
      "1500/1500 [==============================] - 5s 4ms/step - loss: 0.6897 - acc: 0.7545 - val_loss: 0.6975 - val_acc: 0.7513\n",
      "Epoch 21/100\n",
      "1500/1500 [==============================] - 6s 4ms/step - loss: 0.6835 - acc: 0.7569 - val_loss: 0.6943 - val_acc: 0.7556\n",
      "Epoch 22/100\n",
      "1500/1500 [==============================] - 6s 4ms/step - loss: 0.6837 - acc: 0.7583 - val_loss: 0.6942 - val_acc: 0.7549\n",
      "Epoch 23/100\n",
      "1500/1500 [==============================] - 6s 4ms/step - loss: 0.6863 - acc: 0.7585 - val_loss: 0.6930 - val_acc: 0.7549\n",
      "Epoch 24/100\n",
      "1500/1500 [==============================] - 6s 4ms/step - loss: 0.6823 - acc: 0.7598 - val_loss: 0.6941 - val_acc: 0.7545\n",
      "Epoch 25/100\n",
      "1500/1500 [==============================] - 5s 4ms/step - loss: 0.6867 - acc: 0.7575 - val_loss: 0.6906 - val_acc: 0.7555\n",
      "Epoch 26/100\n",
      "1500/1500 [==============================] - 6s 4ms/step - loss: 0.6851 - acc: 0.7585 - val_loss: 0.6911 - val_acc: 0.7554\n",
      "Epoch 27/100\n",
      "1500/1500 [==============================] - 6s 4ms/step - loss: 0.6857 - acc: 0.7562 - val_loss: 0.6915 - val_acc: 0.7539\n",
      "\n",
      "Epoch 00027: ReduceLROnPlateau reducing learning rate to 8.000000525498762e-06.\n",
      "Epoch 28/100\n",
      "1500/1500 [==============================] - 6s 4ms/step - loss: 0.6786 - acc: 0.7606 - val_loss: 0.6889 - val_acc: 0.7553\n",
      "Epoch 29/100\n",
      "1500/1500 [==============================] - 5s 4ms/step - loss: 0.6760 - acc: 0.7608 - val_loss: 0.6884 - val_acc: 0.7561\n",
      "Epoch 30/100\n",
      "1500/1500 [==============================] - 6s 4ms/step - loss: 0.6786 - acc: 0.7598 - val_loss: 0.6882 - val_acc: 0.7560\n",
      "Epoch 31/100\n",
      "1500/1500 [==============================] - 6s 4ms/step - loss: 0.6762 - acc: 0.7640 - val_loss: 0.6880 - val_acc: 0.7561\n",
      "Epoch 32/100\n",
      "1500/1500 [==============================] - 6s 4ms/step - loss: 0.6804 - acc: 0.7606 - val_loss: 0.6884 - val_acc: 0.7564\n",
      "Epoch 33/100\n",
      "1500/1500 [==============================] - 6s 4ms/step - loss: 0.6750 - acc: 0.7614 - val_loss: 0.6884 - val_acc: 0.7554\n",
      "\n",
      "Epoch 00033: ReduceLROnPlateau reducing learning rate to 1.6000001778593287e-06.\n",
      "Epoch 34/100\n",
      "1500/1500 [==============================] - 6s 4ms/step - loss: 0.6730 - acc: 0.7652 - val_loss: 0.6876 - val_acc: 0.7571\n",
      "Epoch 35/100\n",
      "1500/1500 [==============================] - 5s 4ms/step - loss: 0.6745 - acc: 0.7629 - val_loss: 0.6876 - val_acc: 0.7562\n",
      "Epoch 36/100\n",
      "1500/1500 [==============================] - 6s 4ms/step - loss: 0.6796 - acc: 0.7593 - val_loss: 0.6875 - val_acc: 0.7567\n",
      "Epoch 37/100\n",
      "1500/1500 [==============================] - 6s 4ms/step - loss: 0.6775 - acc: 0.7624 - val_loss: 0.6876 - val_acc: 0.7565\n",
      "Epoch 38/100\n",
      "1500/1500 [==============================] - 6s 4ms/step - loss: 0.6790 - acc: 0.7614 - val_loss: 0.6875 - val_acc: 0.7572\n",
      "\n",
      "Epoch 00038: ReduceLROnPlateau reducing learning rate to 3.200000264769187e-07.\n",
      "Epoch 39/100\n",
      "1500/1500 [==============================] - 5s 4ms/step - loss: 0.6746 - acc: 0.7612 - val_loss: 0.6874 - val_acc: 0.7567\n",
      "Epoch 40/100\n",
      "1500/1500 [==============================] - 6s 4ms/step - loss: 0.6795 - acc: 0.7609 - val_loss: 0.6874 - val_acc: 0.7570\n",
      "Epoch 41/100\n",
      "1500/1500 [==============================] - 5s 4ms/step - loss: 0.6797 - acc: 0.7611 - val_loss: 0.6874 - val_acc: 0.7570\n",
      "\n",
      "Epoch 00041: ReduceLROnPlateau reducing learning rate to 6.400000529538374e-08.\n",
      "Epoch 42/100\n",
      "1500/1500 [==============================] - 6s 4ms/step - loss: 0.6723 - acc: 0.7649 - val_loss: 0.6874 - val_acc: 0.7569\n",
      "Epoch 43/100\n",
      "1500/1500 [==============================] - 5s 4ms/step - loss: 0.6738 - acc: 0.7647 - val_loss: 0.6874 - val_acc: 0.7569\n",
      "Epoch 44/100\n",
      "1500/1500 [==============================] - 6s 4ms/step - loss: 0.6772 - acc: 0.7606 - val_loss: 0.6874 - val_acc: 0.7569\n",
      "\n",
      "Epoch 00044: ReduceLROnPlateau reducing learning rate to 1.2800001059076749e-08.\n",
      "Epoch 45/100\n",
      "1500/1500 [==============================] - 6s 4ms/step - loss: 0.6727 - acc: 0.7646 - val_loss: 0.6874 - val_acc: 0.7569\n",
      "Epoch 46/100\n",
      "1500/1500 [==============================] - 6s 4ms/step - loss: 0.6776 - acc: 0.7647 - val_loss: 0.6874 - val_acc: 0.7569\n",
      "Epoch 47/100\n",
      "1500/1500 [==============================] - 6s 4ms/step - loss: 0.6780 - acc: 0.7600 - val_loss: 0.6874 - val_acc: 0.7569\n",
      "\n",
      "Epoch 00047: ReduceLROnPlateau reducing learning rate to 2.5600002118153498e-09.\n",
      "Epoch 48/100\n",
      "1500/1500 [==============================] - 6s 4ms/step - loss: 0.6841 - acc: 0.7589 - val_loss: 0.6874 - val_acc: 0.7569\n",
      "Epoch 49/100\n",
      "1500/1500 [==============================] - 5s 4ms/step - loss: 0.6747 - acc: 0.7639 - val_loss: 0.6874 - val_acc: 0.7569\n",
      "Epoch 50/100\n",
      "1500/1500 [==============================] - 6s 4ms/step - loss: 0.6764 - acc: 0.7658 - val_loss: 0.6874 - val_acc: 0.7569\n",
      "\n",
      "Epoch 00050: ReduceLROnPlateau reducing learning rate to 5.1200004236307e-10.\n",
      "Epoch 51/100\n",
      "1500/1500 [==============================] - 6s 4ms/step - loss: 0.6699 - acc: 0.7653 - val_loss: 0.6874 - val_acc: 0.7569\n",
      "Epoch 52/100\n",
      "1500/1500 [==============================] - 6s 4ms/step - loss: 0.6816 - acc: 0.7610 - val_loss: 0.6874 - val_acc: 0.7569\n",
      "Epoch 53/100\n",
      "1500/1500 [==============================] - 6s 4ms/step - loss: 0.6777 - acc: 0.7596 - val_loss: 0.6874 - val_acc: 0.7569\n",
      "\n",
      "Epoch 00053: ReduceLROnPlateau reducing learning rate to 1.0240001069306004e-10.\n",
      "Epoch 00053: early stopping\n"
     ]
    }
   ],
   "source": [
    "# Train the the model\n",
    "history = model.fit(\n",
    "    train_features_flat,\n",
    "    train_labels,\n",
    "    epochs=NB_EPOCHS,\n",
    "    validation_data=(val_features_flat, valid_labels),\n",
    "    callbacks=callbacks\n",
    ")"
   ]
  },
  {
   "cell_type": "markdown",
   "metadata": {
    "id": "uBOoKcz8Sv7m"
   },
   "source": [
    "###Show the performance"
   ]
  },
  {
   "cell_type": "code",
   "execution_count": 19,
   "metadata": {
    "colab": {
     "base_uri": "https://localhost:8080/",
     "height": 545
    },
    "id": "vjZazfz6SpkM",
    "outputId": "c714c179-d72f-4264-a235-27e5df8ba196"
   },
   "outputs": [
    {
     "data": {
      "image/png": "[encoded data removed]",
      "text/plain": [
       "<Figure size 432x288 with 1 Axes>"
      ]
     },
     "metadata": {
      "needs_background": "light"
     },
     "output_type": "display_data"
    },
    {
     "data": {
      "image/png": "[encoded data removed]",
      "text/plain": [
       "<Figure size 432x288 with 1 Axes>"
      ]
     },
     "metadata": {
      "needs_background": "light"
     },
     "output_type": "display_data"
    },
    {
     "name": "stdout",
     "output_type": "stream",
     "text": [
      "Accuracy: 0.7617083191871643\n",
      "loss: 0.6770939826965332\n"
     ]
    }
   ],
   "source": [
    "# plot the loss and accuracy\n",
    "\n",
    "acc = history.history['acc']\n",
    "val_acc = history.history['val_acc']\n",
    "loss = history.history['loss']\n",
    "val_loss = history.history['val_loss']\n",
    "epochs = range(1, len(acc) + 1)\n",
    "\n",
    "plt.title('Training and validation accuracy')\n",
    "plt.plot(epochs, acc, 'red', label='Training acc')\n",
    "plt.plot(epochs, val_acc, 'blue', label='Validation acc')\n",
    "plt.legend()\n",
    "\n",
    "plt.figure()\n",
    "plt.title('Training and validation loss')\n",
    "plt.plot(epochs, loss, 'red', label='Training loss')\n",
    "plt.plot(epochs, val_loss, 'blue', label='Validation loss')\n",
    "\n",
    "plt.legend()\n",
    "\n",
    "plt.show()\n",
    "\n",
    "print('Accuracy:', acc[-1])\n",
    "print('loss:', loss[-1])"
   ]
  },
  {
   "cell_type": "markdown",
   "metadata": {
    "id": "KHBvT1L3S5oN"
   },
   "source": [
    "####References \n",
    "+ https://www.kaggle.com/crawford/diagnose-lung-disease-with-vgg16 \n",
    "+ https://www.programcreek.com/python/example/92213/keras.applications.vgg16.VGG16 \n",
    "+ http://www.socouldanyone.com/2013/03/converting-grayscale-to-rgb-with-numpy.html"
   ]
  }
 ],
 "metadata": {
  "accelerator": "GPU",
  "colab": {
   "collapsed_sections": [],
   "name": "MNIST_Classification_using_Transfer_Learning.ipynb",
   "provenance": []
  },
  "kernelspec": {
   "display_name": "Python 3",
   "language": "python",
   "name": "python3"
  },
  "language_info": {
   "codemirror_mode": {
    "name": "ipython",
    "version": 3
   },
   "file_extension": ".py",
   "mimetype": "text/x-python",
   "name": "python",
   "nbconvert_exporter": "python",
   "pygments_lexer": "ipython3",
   "version": "3.8.3"
  }
 },
 "nbformat": 4,
 "nbformat_minor": 1
}
